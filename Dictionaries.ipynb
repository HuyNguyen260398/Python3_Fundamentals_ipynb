{
 "cells": [
  {
   "cell_type": "markdown",
   "metadata": {},
   "source": [
    "Associative Arrays and Dictionary"
   ]
  },
  {
   "cell_type": "code",
   "execution_count": null,
   "metadata": {},
   "outputs": [],
   "source": [
    "d = {'a': 1, 'b': 2, 'c':3}"
   ]
  },
  {
   "cell_type": "code",
   "execution_count": 5,
   "metadata": {},
   "outputs": [],
   "source": [
    "person = {\n",
    "    'first_name': 'Huy',\n",
    "    'last_name': 'Nguyen',\n",
    "    'dob': 1998\n",
    "}"
   ]
  },
  {
   "cell_type": "code",
   "execution_count": 6,
   "metadata": {},
   "outputs": [
    {
     "data": {
      "text/plain": [
       "1998"
      ]
     },
     "execution_count": 6,
     "metadata": {},
     "output_type": "execute_result"
    }
   ],
   "source": [
    "person['dob']"
   ]
  },
  {
   "cell_type": "code",
   "execution_count": 7,
   "metadata": {},
   "outputs": [],
   "source": [
    "person['dob'] = 2000"
   ]
  },
  {
   "cell_type": "code",
   "execution_count": 8,
   "metadata": {},
   "outputs": [
    {
     "data": {
      "text/plain": [
       "{'first_name': 'Huy', 'last_name': 'Nguyen', 'dob': 2000}"
      ]
     },
     "execution_count": 8,
     "metadata": {},
     "output_type": "execute_result"
    }
   ],
   "source": [
    "person"
   ]
  },
  {
   "cell_type": "code",
   "execution_count": 9,
   "metadata": {},
   "outputs": [],
   "source": [
    "person['city'] = 'HCM'"
   ]
  },
  {
   "cell_type": "code",
   "execution_count": 10,
   "metadata": {},
   "outputs": [
    {
     "data": {
      "text/plain": [
       "{'first_name': 'Huy', 'last_name': 'Nguyen', 'dob': 2000, 'city': 'HCM'}"
      ]
     },
     "execution_count": 10,
     "metadata": {},
     "output_type": "execute_result"
    }
   ],
   "source": [
    "person"
   ]
  },
  {
   "cell_type": "code",
   "execution_count": 11,
   "metadata": {},
   "outputs": [],
   "source": [
    "d = {3.14: 'pi', 2: 'even', 'prime': 7}"
   ]
  },
  {
   "cell_type": "code",
   "execution_count": 12,
   "metadata": {},
   "outputs": [
    {
     "data": {
      "text/plain": [
       "'pi'"
      ]
     },
     "execution_count": 12,
     "metadata": {},
     "output_type": "execute_result"
    }
   ],
   "source": [
    "d[3.14]"
   ]
  },
  {
   "cell_type": "code",
   "execution_count": 13,
   "metadata": {},
   "outputs": [
    {
     "data": {
      "text/plain": [
       "'even'"
      ]
     },
     "execution_count": 13,
     "metadata": {},
     "output_type": "execute_result"
    }
   ],
   "source": [
    "d[2]"
   ]
  },
  {
   "cell_type": "code",
   "execution_count": 14,
   "metadata": {},
   "outputs": [],
   "source": [
    "l = [1,2,3]"
   ]
  },
  {
   "cell_type": "code",
   "execution_count": 15,
   "metadata": {},
   "outputs": [
    {
     "ename": "TypeError",
     "evalue": "unhashable type: 'list'",
     "output_type": "error",
     "traceback": [
      "\u001b[1;31m---------------------------------------------------------------------------\u001b[0m",
      "\u001b[1;31mTypeError\u001b[0m                                 Traceback (most recent call last)",
      "Cell \u001b[1;32mIn[15], line 1\u001b[0m\n\u001b[1;32m----> 1\u001b[0m d \u001b[39m=\u001b[39m {l: \u001b[39m100\u001b[39m}\n",
      "\u001b[1;31mTypeError\u001b[0m: unhashable type: 'list'"
     ]
    }
   ],
   "source": [
    "d = {l: 100}"
   ]
  },
  {
   "cell_type": "code",
   "execution_count": 16,
   "metadata": {},
   "outputs": [
    {
     "data": {
      "text/plain": [
       "100"
      ]
     },
     "execution_count": 16,
     "metadata": {},
     "output_type": "execute_result"
    }
   ],
   "source": [
    "hash(100)"
   ]
  },
  {
   "cell_type": "code",
   "execution_count": 17,
   "metadata": {},
   "outputs": [
    {
     "data": {
      "text/plain": [
       "322818021289917443"
      ]
     },
     "execution_count": 17,
     "metadata": {},
     "output_type": "execute_result"
    }
   ],
   "source": [
    "hash(3.14)"
   ]
  },
  {
   "cell_type": "code",
   "execution_count": 18,
   "metadata": {},
   "outputs": [
    {
     "ename": "TypeError",
     "evalue": "unhashable type: 'list'",
     "output_type": "error",
     "traceback": [
      "\u001b[1;31m---------------------------------------------------------------------------\u001b[0m",
      "\u001b[1;31mTypeError\u001b[0m                                 Traceback (most recent call last)",
      "Cell \u001b[1;32mIn[18], line 1\u001b[0m\n\u001b[1;32m----> 1\u001b[0m \u001b[39mhash\u001b[39;49m(l)\n",
      "\u001b[1;31mTypeError\u001b[0m: unhashable type: 'list'"
     ]
    }
   ],
   "source": [
    "hash(l)"
   ]
  },
  {
   "cell_type": "code",
   "execution_count": 19,
   "metadata": {},
   "outputs": [],
   "source": [
    "d = {\n",
    "    (0,0): 'origin',\n",
    "    (1,0): 'unit-x',\n",
    "    (0,1): 'unit-y'\n",
    "}"
   ]
  },
  {
   "cell_type": "code",
   "execution_count": 20,
   "metadata": {},
   "outputs": [
    {
     "data": {
      "text/plain": [
       "{(0, 0): 'origin', (1, 0): 'unit-x', (0, 1): 'unit-y'}"
      ]
     },
     "execution_count": 20,
     "metadata": {},
     "output_type": "execute_result"
    }
   ],
   "source": [
    "d"
   ]
  },
  {
   "cell_type": "code",
   "execution_count": 21,
   "metadata": {},
   "outputs": [
    {
     "data": {
      "text/plain": [
       "'origin'"
      ]
     },
     "execution_count": 21,
     "metadata": {},
     "output_type": "execute_result"
    }
   ],
   "source": [
    "d[(0,0)]"
   ]
  },
  {
   "cell_type": "code",
   "execution_count": 22,
   "metadata": {},
   "outputs": [],
   "source": [
    "d = {'a':1, 'b':2, 'c':3}"
   ]
  },
  {
   "cell_type": "code",
   "execution_count": 23,
   "metadata": {},
   "outputs": [
    {
     "data": {
      "text/plain": [
       "{'a': 1, 'b': 2, 'c': 3}"
      ]
     },
     "execution_count": 23,
     "metadata": {},
     "output_type": "execute_result"
    }
   ],
   "source": [
    "d"
   ]
  },
  {
   "cell_type": "code",
   "execution_count": 24,
   "metadata": {},
   "outputs": [
    {
     "data": {
      "text/plain": [
       "1950155395008"
      ]
     },
     "execution_count": 24,
     "metadata": {},
     "output_type": "execute_result"
    }
   ],
   "source": [
    "id(d)"
   ]
  },
  {
   "cell_type": "code",
   "execution_count": 25,
   "metadata": {},
   "outputs": [],
   "source": [
    "del d['a']"
   ]
  },
  {
   "cell_type": "code",
   "execution_count": 26,
   "metadata": {},
   "outputs": [
    {
     "data": {
      "text/plain": [
       "1950155395008"
      ]
     },
     "execution_count": 26,
     "metadata": {},
     "output_type": "execute_result"
    }
   ],
   "source": [
    "id(d)"
   ]
  },
  {
   "cell_type": "code",
   "execution_count": 27,
   "metadata": {},
   "outputs": [
    {
     "ename": "KeyError",
     "evalue": "'x'",
     "output_type": "error",
     "traceback": [
      "\u001b[1;31m---------------------------------------------------------------------------\u001b[0m",
      "\u001b[1;31mKeyError\u001b[0m                                  Traceback (most recent call last)",
      "Cell \u001b[1;32mIn[27], line 1\u001b[0m\n\u001b[1;32m----> 1\u001b[0m d[\u001b[39m'\u001b[39;49m\u001b[39mx\u001b[39;49m\u001b[39m'\u001b[39;49m]\n",
      "\u001b[1;31mKeyError\u001b[0m: 'x'"
     ]
    }
   ],
   "source": [
    "d['x']"
   ]
  },
  {
   "cell_type": "code",
   "execution_count": 28,
   "metadata": {},
   "outputs": [
    {
     "ename": "KeyError",
     "evalue": "'x'",
     "output_type": "error",
     "traceback": [
      "\u001b[1;31m---------------------------------------------------------------------------\u001b[0m",
      "\u001b[1;31mKeyError\u001b[0m                                  Traceback (most recent call last)",
      "Cell \u001b[1;32mIn[28], line 1\u001b[0m\n\u001b[1;32m----> 1\u001b[0m \u001b[39mdel\u001b[39;00m d[\u001b[39m'\u001b[39;49m\u001b[39mx\u001b[39;49m\u001b[39m'\u001b[39;49m]\n",
      "\u001b[1;31mKeyError\u001b[0m: 'x'"
     ]
    }
   ],
   "source": [
    "del d['x']"
   ]
  },
  {
   "cell_type": "code",
   "execution_count": 30,
   "metadata": {},
   "outputs": [
    {
     "data": {
      "text/plain": [
       "{'__name__': '__main__',\n",
       " '__doc__': 'Automatically created module for IPython interactive environment',\n",
       " '__package__': None,\n",
       " '__loader__': None,\n",
       " '__spec__': None,\n",
       " '__builtin__': <module 'builtins' (built-in)>,\n",
       " '__builtins__': <module 'builtins' (built-in)>,\n",
       " '_ih': ['',\n",
       "  \"person = {\\n    'first_name': 'Huy',\\n    'last_name': 'Nguyen',\\n    'dob:', 1998\\n}\",\n",
       "  \"person = {\\n    'first_name': 'Huy',\\n    'last_name': 'Nguyen',\\n    'dob:': 1998\\n}\",\n",
       "  \"person['dob']\",\n",
       "  \"person['dob']\",\n",
       "  \"person = {\\n    'first_name': 'Huy',\\n    'last_name': 'Nguyen',\\n    'dob': 1998\\n}\",\n",
       "  \"person['dob']\",\n",
       "  \"person['dob'] = 2000\",\n",
       "  'person',\n",
       "  \"person['city'] = 'HCM'\",\n",
       "  'person',\n",
       "  \"d = {3.14: 'pi', 2: 'even', 'prime': 7}\",\n",
       "  'd[3.14]',\n",
       "  'd[2]',\n",
       "  'l = [1,2,3]',\n",
       "  'd = {l: 100}',\n",
       "  'hash(100)',\n",
       "  'hash(3.14)',\n",
       "  'hash(l)',\n",
       "  \"d = {\\n    (0,0): 'origin',\\n    (1,0): 'unit-x',\\n    (0,1): 'unit-y'\\n}\",\n",
       "  'd',\n",
       "  'd[(0,0)]',\n",
       "  \"d = {'a':1, 'b':2, 'c':3}\",\n",
       "  'd',\n",
       "  'id(d)',\n",
       "  \"del d['a']\",\n",
       "  'id(d)',\n",
       "  \"d['x']\",\n",
       "  \"del d['x']\",\n",
       "  'global()',\n",
       "  'globals()'],\n",
       " '_oh': {6: 1998,\n",
       "  8: {'first_name': 'Huy', 'last_name': 'Nguyen', 'dob': 2000, 'city': 'HCM'},\n",
       "  10: {'first_name': 'Huy', 'last_name': 'Nguyen', 'dob': 2000, 'city': 'HCM'},\n",
       "  12: 'pi',\n",
       "  13: 'even',\n",
       "  16: 100,\n",
       "  17: 322818021289917443,\n",
       "  20: {(0, 0): 'origin', (1, 0): 'unit-x', (0, 1): 'unit-y'},\n",
       "  21: 'origin',\n",
       "  23: {'b': 2, 'c': 3},\n",
       "  24: 1950155395008,\n",
       "  26: 1950155395008},\n",
       " '_dh': [WindowsPath('e:/Workspace/python-fundamentals/ipynb'),\n",
       "  WindowsPath('e:/Workspace/python-fundamentals/ipynb')],\n",
       " 'In': ['',\n",
       "  \"person = {\\n    'first_name': 'Huy',\\n    'last_name': 'Nguyen',\\n    'dob:', 1998\\n}\",\n",
       "  \"person = {\\n    'first_name': 'Huy',\\n    'last_name': 'Nguyen',\\n    'dob:': 1998\\n}\",\n",
       "  \"person['dob']\",\n",
       "  \"person['dob']\",\n",
       "  \"person = {\\n    'first_name': 'Huy',\\n    'last_name': 'Nguyen',\\n    'dob': 1998\\n}\",\n",
       "  \"person['dob']\",\n",
       "  \"person['dob'] = 2000\",\n",
       "  'person',\n",
       "  \"person['city'] = 'HCM'\",\n",
       "  'person',\n",
       "  \"d = {3.14: 'pi', 2: 'even', 'prime': 7}\",\n",
       "  'd[3.14]',\n",
       "  'd[2]',\n",
       "  'l = [1,2,3]',\n",
       "  'd = {l: 100}',\n",
       "  'hash(100)',\n",
       "  'hash(3.14)',\n",
       "  'hash(l)',\n",
       "  \"d = {\\n    (0,0): 'origin',\\n    (1,0): 'unit-x',\\n    (0,1): 'unit-y'\\n}\",\n",
       "  'd',\n",
       "  'd[(0,0)]',\n",
       "  \"d = {'a':1, 'b':2, 'c':3}\",\n",
       "  'd',\n",
       "  'id(d)',\n",
       "  \"del d['a']\",\n",
       "  'id(d)',\n",
       "  \"d['x']\",\n",
       "  \"del d['x']\",\n",
       "  'global()',\n",
       "  'globals()'],\n",
       " 'Out': {6: 1998,\n",
       "  8: {'first_name': 'Huy', 'last_name': 'Nguyen', 'dob': 2000, 'city': 'HCM'},\n",
       "  10: {'first_name': 'Huy', 'last_name': 'Nguyen', 'dob': 2000, 'city': 'HCM'},\n",
       "  12: 'pi',\n",
       "  13: 'even',\n",
       "  16: 100,\n",
       "  17: 322818021289917443,\n",
       "  20: {(0, 0): 'origin', (1, 0): 'unit-x', (0, 1): 'unit-y'},\n",
       "  21: 'origin',\n",
       "  23: {'b': 2, 'c': 3},\n",
       "  24: 1950155395008,\n",
       "  26: 1950155395008},\n",
       " 'get_ipython': <bound method InteractiveShell.get_ipython of <ipykernel.zmqshell.ZMQInteractiveShell object at 0x000001C60E4D2E50>>,\n",
       " 'exit': <IPython.core.autocall.ZMQExitAutocall at 0x1c60e4dae10>,\n",
       " 'quit': <IPython.core.autocall.ZMQExitAutocall at 0x1c60e4dae10>,\n",
       " 'open': <function io.open(file, mode='r', buffering=-1, encoding=None, errors=None, newline=None, closefd=True, opener=None)>,\n",
       " '_': 1950155395008,\n",
       " '__': 1950155395008,\n",
       " '___': {'b': 2, 'c': 3},\n",
       " '__vsc_ipynb_file__': 'e:\\\\Workspace\\\\python-fundamentals\\\\ipynb\\\\Dictionaries.ipynb',\n",
       " '_i': 'global()',\n",
       " '_ii': \"del d['x']\",\n",
       " '_iii': \"d['x']\",\n",
       " '_i1': \"person = {\\n    'first_name': 'Huy',\\n    'last_name': 'Nguyen',\\n    'dob:', 1998\\n}\",\n",
       " '_i2': \"person = {\\n    'first_name': 'Huy',\\n    'last_name': 'Nguyen',\\n    'dob:': 1998\\n}\",\n",
       " 'person': {'first_name': 'Huy',\n",
       "  'last_name': 'Nguyen',\n",
       "  'dob': 2000,\n",
       "  'city': 'HCM'},\n",
       " '_i3': \"person['dob']\",\n",
       " '_i4': \"person['dob']\",\n",
       " '_i5': \"person = {\\n    'first_name': 'Huy',\\n    'last_name': 'Nguyen',\\n    'dob': 1998\\n}\",\n",
       " '_i6': \"person['dob']\",\n",
       " '_6': 1998,\n",
       " '_i7': \"person['dob'] = 2000\",\n",
       " '_i8': 'person',\n",
       " '_8': {'first_name': 'Huy',\n",
       "  'last_name': 'Nguyen',\n",
       "  'dob': 2000,\n",
       "  'city': 'HCM'},\n",
       " '_i9': \"person['city'] = 'HCM'\",\n",
       " '_i10': 'person',\n",
       " '_10': {'first_name': 'Huy',\n",
       "  'last_name': 'Nguyen',\n",
       "  'dob': 2000,\n",
       "  'city': 'HCM'},\n",
       " '_i11': \"d = {3.14: 'pi', 2: 'even', 'prime': 7}\",\n",
       " 'd': {'b': 2, 'c': 3},\n",
       " '_i12': 'd[3.14]',\n",
       " '_12': 'pi',\n",
       " '_i13': 'd[2]',\n",
       " '_13': 'even',\n",
       " '_i14': 'l = [1,2,3]',\n",
       " 'l': [1, 2, 3],\n",
       " '_i15': 'd = {l: 100}',\n",
       " '_i16': 'hash(100)',\n",
       " '_16': 100,\n",
       " '_i17': 'hash(3.14)',\n",
       " '_17': 322818021289917443,\n",
       " '_i18': 'hash(l)',\n",
       " '_i19': \"d = {\\n    (0,0): 'origin',\\n    (1,0): 'unit-x',\\n    (0,1): 'unit-y'\\n}\",\n",
       " '_i20': 'd',\n",
       " '_20': {(0, 0): 'origin', (1, 0): 'unit-x', (0, 1): 'unit-y'},\n",
       " '_i21': 'd[(0,0)]',\n",
       " '_21': 'origin',\n",
       " '_i22': \"d = {'a':1, 'b':2, 'c':3}\",\n",
       " '_i23': 'd',\n",
       " '_23': {'b': 2, 'c': 3},\n",
       " '_i24': 'id(d)',\n",
       " '_24': 1950155395008,\n",
       " '_i25': \"del d['a']\",\n",
       " '_i26': 'id(d)',\n",
       " '_26': 1950155395008,\n",
       " '_i27': \"d['x']\",\n",
       " '_i28': \"del d['x']\",\n",
       " '_i29': 'global()',\n",
       " '_i30': 'globals()'}"
      ]
     },
     "execution_count": 30,
     "metadata": {},
     "output_type": "execute_result"
    }
   ],
   "source": [
    "globals()"
   ]
  },
  {
   "cell_type": "code",
   "execution_count": 31,
   "metadata": {},
   "outputs": [
    {
     "data": {
      "text/plain": [
       "dict"
      ]
     },
     "execution_count": 31,
     "metadata": {},
     "output_type": "execute_result"
    }
   ],
   "source": [
    "type(globals())"
   ]
  },
  {
   "cell_type": "code",
   "execution_count": 32,
   "metadata": {},
   "outputs": [],
   "source": [
    "p = globals()['person']"
   ]
  },
  {
   "cell_type": "code",
   "execution_count": 33,
   "metadata": {},
   "outputs": [
    {
     "data": {
      "text/plain": [
       "{'first_name': 'Huy', 'last_name': 'Nguyen', 'dob': 2000, 'city': 'HCM'}"
      ]
     },
     "execution_count": 33,
     "metadata": {},
     "output_type": "execute_result"
    }
   ],
   "source": [
    "p"
   ]
  },
  {
   "cell_type": "markdown",
   "metadata": {},
   "source": [
    "Iterating Dictionaries"
   ]
  },
  {
   "cell_type": "code",
   "execution_count": 2,
   "metadata": {},
   "outputs": [],
   "source": [
    "d = {\n",
    "    'key 1': 1,\n",
    "    'key 2': 2,\n",
    "    3.14: 'pi'\n",
    "}"
   ]
  },
  {
   "cell_type": "code",
   "execution_count": 3,
   "metadata": {},
   "outputs": [
    {
     "name": "stdout",
     "output_type": "stream",
     "text": [
      "key 1\n",
      "key 2\n",
      "3.14\n"
     ]
    }
   ],
   "source": [
    "for k in d:\n",
    "    print(k)"
   ]
  },
  {
   "cell_type": "code",
   "execution_count": 4,
   "metadata": {},
   "outputs": [
    {
     "name": "stdout",
     "output_type": "stream",
     "text": [
      "d[key 1] = 1\n",
      "d[key 2] = 2\n",
      "d[3.14] = pi\n"
     ]
    }
   ],
   "source": [
    "for k in d:\n",
    "    print(f'd[{k}] = {d[k]}')"
   ]
  },
  {
   "cell_type": "code",
   "execution_count": 5,
   "metadata": {},
   "outputs": [
    {
     "name": "stdout",
     "output_type": "stream",
     "text": [
      "1\n",
      "2\n",
      "pi\n"
     ]
    }
   ],
   "source": [
    "for v in d.values():\n",
    "    print(v)"
   ]
  },
  {
   "cell_type": "code",
   "execution_count": 3,
   "metadata": {},
   "outputs": [
    {
     "name": "stdout",
     "output_type": "stream",
     "text": [
      "key 1 1\n",
      "key 2 2\n",
      "3.14 pi\n"
     ]
    }
   ],
   "source": [
    "for t in d.items():\n",
    "    key, value = t\n",
    "    print(key, value)"
   ]
  },
  {
   "cell_type": "code",
   "execution_count": 4,
   "metadata": {},
   "outputs": [
    {
     "name": "stdout",
     "output_type": "stream",
     "text": [
      "key 1 1\n",
      "key 2 2\n",
      "3.14 pi\n"
     ]
    }
   ],
   "source": [
    "for key, value in d.items():\n",
    "    print(key, value)"
   ]
  },
  {
   "cell_type": "code",
   "execution_count": 5,
   "metadata": {},
   "outputs": [],
   "source": [
    "d['x'] = 100"
   ]
  },
  {
   "cell_type": "code",
   "execution_count": 6,
   "metadata": {},
   "outputs": [
    {
     "data": {
      "text/plain": [
       "{'key 1': 1, 'key 2': 2, 3.14: 'pi', 'x': 100}"
      ]
     },
     "execution_count": 6,
     "metadata": {},
     "output_type": "execute_result"
    }
   ],
   "source": [
    "d"
   ]
  },
  {
   "cell_type": "code",
   "execution_count": 7,
   "metadata": {},
   "outputs": [],
   "source": [
    "d['key 1 '] = 100"
   ]
  },
  {
   "cell_type": "code",
   "execution_count": 8,
   "metadata": {},
   "outputs": [
    {
     "name": "stdout",
     "output_type": "stream",
     "text": [
      "key 1\n",
      "key 2\n",
      "3.14\n",
      "x\n",
      "key 1 \n"
     ]
    }
   ],
   "source": [
    "for k in d:\n",
    "    print(k)"
   ]
  },
  {
   "cell_type": "code",
   "execution_count": 9,
   "metadata": {},
   "outputs": [],
   "source": [
    "del d['key 1']"
   ]
  },
  {
   "cell_type": "code",
   "execution_count": 10,
   "metadata": {},
   "outputs": [
    {
     "data": {
      "text/plain": [
       "{'key 2': 2, 3.14: 'pi', 'x': 100, 'key 1 ': 100}"
      ]
     },
     "execution_count": 10,
     "metadata": {},
     "output_type": "execute_result"
    }
   ],
   "source": [
    "d"
   ]
  },
  {
   "cell_type": "code",
   "execution_count": 11,
   "metadata": {},
   "outputs": [],
   "source": [
    "d['key 1 '] = 100"
   ]
  },
  {
   "cell_type": "code",
   "execution_count": 12,
   "metadata": {},
   "outputs": [
    {
     "data": {
      "text/plain": [
       "{'key 2': 2, 3.14: 'pi', 'x': 100, 'key 1 ': 100}"
      ]
     },
     "execution_count": 12,
     "metadata": {},
     "output_type": "execute_result"
    }
   ],
   "source": [
    "d"
   ]
  },
  {
   "cell_type": "code",
   "execution_count": 13,
   "metadata": {},
   "outputs": [
    {
     "name": "stdout",
     "output_type": "stream",
     "text": [
      "key 2\n",
      "3.14\n",
      "x\n",
      "key 1 \n"
     ]
    }
   ],
   "source": [
    "for k in d:\n",
    "    print(k)"
   ]
  },
  {
   "cell_type": "markdown",
   "metadata": {},
   "source": [
    "Working with Dictionaries"
   ]
  },
  {
   "cell_type": "code",
   "execution_count": 14,
   "metadata": {},
   "outputs": [],
   "source": [
    "data = {\n",
    "    'open': 100,\n",
    "    'high': 110,\n",
    "    'low': 95,\n",
    "    'close': 110\n",
    "}"
   ]
  },
  {
   "cell_type": "code",
   "execution_count": 15,
   "metadata": {},
   "outputs": [
    {
     "data": {
      "text/plain": [
       "True"
      ]
     },
     "execution_count": 15,
     "metadata": {},
     "output_type": "execute_result"
    }
   ],
   "source": [
    "'open' in data"
   ]
  },
  {
   "cell_type": "code",
   "execution_count": 16,
   "metadata": {},
   "outputs": [
    {
     "data": {
      "text/plain": [
       "False"
      ]
     },
     "execution_count": 16,
     "metadata": {},
     "output_type": "execute_result"
    }
   ],
   "source": [
    "'open' not in data"
   ]
  },
  {
   "cell_type": "code",
   "execution_count": 17,
   "metadata": {},
   "outputs": [
    {
     "data": {
      "text/plain": [
       "True"
      ]
     },
     "execution_count": 17,
     "metadata": {},
     "output_type": "execute_result"
    }
   ],
   "source": [
    "'x' not in data"
   ]
  },
  {
   "cell_type": "code",
   "execution_count": 18,
   "metadata": {},
   "outputs": [],
   "source": [
    "data.clear()"
   ]
  },
  {
   "cell_type": "code",
   "execution_count": 19,
   "metadata": {},
   "outputs": [
    {
     "data": {
      "text/plain": [
       "{}"
      ]
     },
     "execution_count": 19,
     "metadata": {},
     "output_type": "execute_result"
    }
   ],
   "source": [
    "data"
   ]
  },
  {
   "cell_type": "code",
   "execution_count": 20,
   "metadata": {},
   "outputs": [
    {
     "data": {
      "text/plain": [
       "0"
      ]
     },
     "execution_count": 20,
     "metadata": {},
     "output_type": "execute_result"
    }
   ],
   "source": [
    "len(data)"
   ]
  },
  {
   "cell_type": "code",
   "execution_count": 21,
   "metadata": {},
   "outputs": [],
   "source": [
    "data = {\n",
    "    'open': 100,\n",
    "    'high': 110,\n",
    "    'low': 95,\n",
    "    'close': 110\n",
    "}"
   ]
  },
  {
   "cell_type": "code",
   "execution_count": 22,
   "metadata": {},
   "outputs": [
    {
     "data": {
      "text/plain": [
       "4"
      ]
     },
     "execution_count": 22,
     "metadata": {},
     "output_type": "execute_result"
    }
   ],
   "source": [
    "len(data)"
   ]
  },
  {
   "cell_type": "code",
   "execution_count": 23,
   "metadata": {},
   "outputs": [],
   "source": [
    "data_copy = data.copy()"
   ]
  },
  {
   "cell_type": "code",
   "execution_count": 24,
   "metadata": {},
   "outputs": [
    {
     "data": {
      "text/plain": [
       "{'open': 100, 'high': 110, 'low': 95, 'close': 110}"
      ]
     },
     "execution_count": 24,
     "metadata": {},
     "output_type": "execute_result"
    }
   ],
   "source": [
    "data_copy"
   ]
  },
  {
   "cell_type": "code",
   "execution_count": 25,
   "metadata": {},
   "outputs": [
    {
     "data": {
      "text/plain": [
       "False"
      ]
     },
     "execution_count": 25,
     "metadata": {},
     "output_type": "execute_result"
    }
   ],
   "source": [
    "data is data_copy"
   ]
  },
  {
   "cell_type": "code",
   "execution_count": 26,
   "metadata": {},
   "outputs": [],
   "source": [
    "data_copy['x'] = 100"
   ]
  },
  {
   "cell_type": "code",
   "execution_count": 27,
   "metadata": {},
   "outputs": [
    {
     "data": {
      "text/plain": [
       "{'open': 100, 'high': 110, 'low': 95, 'close': 110, 'x': 100}"
      ]
     },
     "execution_count": 27,
     "metadata": {},
     "output_type": "execute_result"
    }
   ],
   "source": [
    "data_copy"
   ]
  },
  {
   "cell_type": "code",
   "execution_count": 28,
   "metadata": {},
   "outputs": [
    {
     "data": {
      "text/plain": [
       "{'open': 100, 'high': 110, 'low': 95, 'close': 110}"
      ]
     },
     "execution_count": 28,
     "metadata": {},
     "output_type": "execute_result"
    }
   ],
   "source": [
    "data"
   ]
  },
  {
   "cell_type": "code",
   "execution_count": 29,
   "metadata": {},
   "outputs": [],
   "source": [
    "from copy import deepcopy"
   ]
  },
  {
   "cell_type": "code",
   "execution_count": 30,
   "metadata": {},
   "outputs": [],
   "source": [
    "data_copy = deepcopy(data)"
   ]
  },
  {
   "cell_type": "code",
   "execution_count": 31,
   "metadata": {},
   "outputs": [
    {
     "data": {
      "text/plain": [
       "False"
      ]
     },
     "execution_count": 31,
     "metadata": {},
     "output_type": "execute_result"
    }
   ],
   "source": [
    "data_copy is data"
   ]
  },
  {
   "cell_type": "code",
   "execution_count": 32,
   "metadata": {},
   "outputs": [],
   "source": [
    "d = {\n",
    "    'a': [1,2,3],\n",
    "    'b': {\n",
    "        'x': 0,\n",
    "        'y': 0\n",
    "    }\n",
    "}"
   ]
  },
  {
   "cell_type": "code",
   "execution_count": 33,
   "metadata": {},
   "outputs": [],
   "source": [
    "d_copy = d.copy()"
   ]
  },
  {
   "cell_type": "code",
   "execution_count": 34,
   "metadata": {},
   "outputs": [
    {
     "data": {
      "text/plain": [
       "False"
      ]
     },
     "execution_count": 34,
     "metadata": {},
     "output_type": "execute_result"
    }
   ],
   "source": [
    "d_copy is d"
   ]
  },
  {
   "cell_type": "code",
   "execution_count": 35,
   "metadata": {},
   "outputs": [],
   "source": [
    "d['b'] = 100"
   ]
  },
  {
   "cell_type": "code",
   "execution_count": 36,
   "metadata": {},
   "outputs": [
    {
     "data": {
      "text/plain": [
       "{'a': [1, 2, 3], 'b': 100}"
      ]
     },
     "execution_count": 36,
     "metadata": {},
     "output_type": "execute_result"
    }
   ],
   "source": [
    "d"
   ]
  },
  {
   "cell_type": "code",
   "execution_count": 37,
   "metadata": {},
   "outputs": [
    {
     "data": {
      "text/plain": [
       "{'a': [1, 2, 3], 'b': {'x': 0, 'y': 0}}"
      ]
     },
     "execution_count": 37,
     "metadata": {},
     "output_type": "execute_result"
    }
   ],
   "source": [
    "d_copy"
   ]
  },
  {
   "cell_type": "code",
   "execution_count": 38,
   "metadata": {},
   "outputs": [],
   "source": [
    "d['a'].append(4)"
   ]
  },
  {
   "cell_type": "code",
   "execution_count": 39,
   "metadata": {},
   "outputs": [
    {
     "data": {
      "text/plain": [
       "{'a': [1, 2, 3, 4], 'b': 100}"
      ]
     },
     "execution_count": 39,
     "metadata": {},
     "output_type": "execute_result"
    }
   ],
   "source": [
    "d"
   ]
  },
  {
   "cell_type": "code",
   "execution_count": 40,
   "metadata": {},
   "outputs": [
    {
     "data": {
      "text/plain": [
       "{'a': [1, 2, 3, 4], 'b': {'x': 0, 'y': 0}}"
      ]
     },
     "execution_count": 40,
     "metadata": {},
     "output_type": "execute_result"
    }
   ],
   "source": [
    "d_copy"
   ]
  },
  {
   "cell_type": "code",
   "execution_count": 41,
   "metadata": {},
   "outputs": [],
   "source": [
    "d_copy = deepcopy(d)"
   ]
  },
  {
   "cell_type": "code",
   "execution_count": 42,
   "metadata": {},
   "outputs": [],
   "source": [
    "d_copy['a'].append(5)"
   ]
  },
  {
   "cell_type": "code",
   "execution_count": 43,
   "metadata": {},
   "outputs": [
    {
     "data": {
      "text/plain": [
       "{'a': [1, 2, 3, 4], 'b': 100}"
      ]
     },
     "execution_count": 43,
     "metadata": {},
     "output_type": "execute_result"
    }
   ],
   "source": [
    "d"
   ]
  },
  {
   "cell_type": "code",
   "execution_count": 44,
   "metadata": {},
   "outputs": [
    {
     "data": {
      "text/plain": [
       "{'a': [1, 2, 3, 4, 5], 'b': 100}"
      ]
     },
     "execution_count": 44,
     "metadata": {},
     "output_type": "execute_result"
    }
   ],
   "source": [
    "d_copy"
   ]
  },
  {
   "cell_type": "code",
   "execution_count": 45,
   "metadata": {},
   "outputs": [],
   "source": [
    "d = dict(a=1,b=2)"
   ]
  },
  {
   "cell_type": "code",
   "execution_count": 46,
   "metadata": {},
   "outputs": [
    {
     "data": {
      "text/plain": [
       "{'a': 1, 'b': 2}"
      ]
     },
     "execution_count": 46,
     "metadata": {},
     "output_type": "execute_result"
    }
   ],
   "source": [
    "d"
   ]
  },
  {
   "cell_type": "code",
   "execution_count": 50,
   "metadata": {},
   "outputs": [],
   "source": [
    "d = {3.14:'pi',2:'even'}"
   ]
  },
  {
   "cell_type": "code",
   "execution_count": 49,
   "metadata": {},
   "outputs": [
    {
     "ename": "SyntaxError",
     "evalue": "expression cannot contain assignment, perhaps you meant \"==\"? (4086768498.py, line 1)",
     "output_type": "error",
     "traceback": [
      "\u001b[1;36m  Cell \u001b[1;32mIn[49], line 1\u001b[1;36m\u001b[0m\n\u001b[1;33m    d = dict(2='even')\u001b[0m\n\u001b[1;37m             ^\u001b[0m\n\u001b[1;31mSyntaxError\u001b[0m\u001b[1;31m:\u001b[0m expression cannot contain assignment, perhaps you meant \"==\"?\n"
     ]
    }
   ],
   "source": [
    "d = dict(2='even')"
   ]
  },
  {
   "cell_type": "code",
   "execution_count": 51,
   "metadata": {},
   "outputs": [],
   "source": [
    "d = {\n",
    "    'open': 0,\n",
    "    'high': 0,\n",
    "    'low': 0,\n",
    "    'close': 0\n",
    "}"
   ]
  },
  {
   "cell_type": "code",
   "execution_count": 52,
   "metadata": {},
   "outputs": [
    {
     "data": {
      "text/plain": [
       "dict"
      ]
     },
     "execution_count": 52,
     "metadata": {},
     "output_type": "execute_result"
    }
   ],
   "source": [
    "type(d)"
   ]
  },
  {
   "cell_type": "code",
   "execution_count": 53,
   "metadata": {},
   "outputs": [],
   "source": [
    "d = dict.fromkeys(['open', 'high', 'low', 'close'], 10)"
   ]
  },
  {
   "cell_type": "code",
   "execution_count": 55,
   "metadata": {},
   "outputs": [
    {
     "data": {
      "text/plain": [
       "{'open': 10, 'high': 10, 'low': 10, 'close': 10}"
      ]
     },
     "execution_count": 55,
     "metadata": {},
     "output_type": "execute_result"
    }
   ],
   "source": [
    "d"
   ]
  },
  {
   "cell_type": "code",
   "execution_count": 56,
   "metadata": {},
   "outputs": [],
   "source": [
    "d = dict.fromkeys('python', 1)"
   ]
  },
  {
   "cell_type": "code",
   "execution_count": 57,
   "metadata": {},
   "outputs": [
    {
     "data": {
      "text/plain": [
       "{'p': 1, 'y': 1, 't': 1, 'h': 1, 'o': 1, 'n': 1}"
      ]
     },
     "execution_count": 57,
     "metadata": {},
     "output_type": "execute_result"
    }
   ],
   "source": [
    "d"
   ]
  },
  {
   "cell_type": "code",
   "execution_count": 58,
   "metadata": {},
   "outputs": [],
   "source": [
    "d = dict.fromkeys(['a', 'a'], 100)"
   ]
  },
  {
   "cell_type": "code",
   "execution_count": 59,
   "metadata": {},
   "outputs": [
    {
     "data": {
      "text/plain": [
       "{'a': 100}"
      ]
     },
     "execution_count": 59,
     "metadata": {},
     "output_type": "execute_result"
    }
   ],
   "source": [
    "d"
   ]
  },
  {
   "cell_type": "code",
   "execution_count": 60,
   "metadata": {},
   "outputs": [],
   "source": [
    "symbols = ['AAPL', 'MSFT', 'AAPL', 'MSFT']"
   ]
  },
  {
   "cell_type": "code",
   "execution_count": 61,
   "metadata": {},
   "outputs": [],
   "source": [
    "d = dict.fromkeys(symbols, 0)"
   ]
  },
  {
   "cell_type": "code",
   "execution_count": 62,
   "metadata": {},
   "outputs": [
    {
     "data": {
      "text/plain": [
       "{'AAPL': 0, 'MSFT': 0}"
      ]
     },
     "execution_count": 62,
     "metadata": {},
     "output_type": "execute_result"
    }
   ],
   "source": [
    "d"
   ]
  },
  {
   "cell_type": "code",
   "execution_count": 63,
   "metadata": {},
   "outputs": [
    {
     "data": {
      "text/plain": [
       "['AAPL', 'MSFT']"
      ]
     },
     "execution_count": 63,
     "metadata": {},
     "output_type": "execute_result"
    }
   ],
   "source": [
    "list(d)"
   ]
  },
  {
   "cell_type": "code",
   "execution_count": 64,
   "metadata": {},
   "outputs": [],
   "source": [
    "d = dict.fromkeys('Python is an awesome language!', 0)"
   ]
  },
  {
   "cell_type": "code",
   "execution_count": 65,
   "metadata": {},
   "outputs": [
    {
     "data": {
      "text/plain": [
       "{'P': 0,\n",
       " 'y': 0,\n",
       " 't': 0,\n",
       " 'h': 0,\n",
       " 'o': 0,\n",
       " 'n': 0,\n",
       " ' ': 0,\n",
       " 'i': 0,\n",
       " 's': 0,\n",
       " 'a': 0,\n",
       " 'w': 0,\n",
       " 'e': 0,\n",
       " 'm': 0,\n",
       " 'l': 0,\n",
       " 'g': 0,\n",
       " 'u': 0,\n",
       " '!': 0}"
      ]
     },
     "execution_count": 65,
     "metadata": {},
     "output_type": "execute_result"
    }
   ],
   "source": [
    "d"
   ]
  },
  {
   "cell_type": "code",
   "execution_count": 66,
   "metadata": {},
   "outputs": [],
   "source": [
    "d1 = {}"
   ]
  },
  {
   "cell_type": "code",
   "execution_count": 67,
   "metadata": {},
   "outputs": [],
   "source": [
    "d2 = dict()"
   ]
  },
  {
   "cell_type": "code",
   "execution_count": 68,
   "metadata": {},
   "outputs": [
    {
     "data": {
      "text/plain": [
       "({}, {})"
      ]
     },
     "execution_count": 68,
     "metadata": {},
     "output_type": "execute_result"
    }
   ],
   "source": [
    "d1, d2"
   ]
  },
  {
   "cell_type": "code",
   "execution_count": 79,
   "metadata": {},
   "outputs": [],
   "source": [
    "transactions = [\n",
    "    {'item': 'widget', 'trans_type': 'sale', 'quantity': 10},\n",
    "    {'item': 'widget', 'trans_type': 'sale', 'quantity': 20},\n",
    "    {'item': 'widget', 'trans_type': 'refund', 'quantity': 30},\n",
    "    {'item': 'license', 'trans_type': 'sale', 'quantity': 40},\n",
    "    {'item': 'license', 'trans_type': 'sale', 'quantity': 50},\n",
    "    {'item': 'license', 'trans_type': 'refund', 'quantity': 60}\n",
    "]"
   ]
  },
  {
   "cell_type": "code",
   "execution_count": 85,
   "metadata": {},
   "outputs": [
    {
     "name": "stdout",
     "output_type": "stream",
     "text": [
      "{'widget': 30, 'license': 90}\n"
     ]
    }
   ],
   "source": [
    "total_sold = {}\n",
    "\n",
    "for transaction in transactions:\n",
    "    item = transaction['item']\n",
    "    is_sale = True if transaction['trans_type'] == 'sale' else False\n",
    "    quantity = transaction['quantity']\n",
    "\n",
    "    if is_sale:\n",
    "        if item in total_sold:\n",
    "            total_sold[item] += quantity\n",
    "        else:\n",
    "            total_sold[item] = quantity\n",
    "\n",
    "print(total_sold)"
   ]
  },
  {
   "cell_type": "code",
   "execution_count": 84,
   "metadata": {},
   "outputs": [
    {
     "name": "stdout",
     "output_type": "stream",
     "text": [
      "{'widget': 30, 'license': 90}\n"
     ]
    }
   ],
   "source": [
    "net_sales = {}\n",
    "\n",
    "for transaction in transactions:\n",
    "    item = transaction['item']\n",
    "    is_sale = True if transaction['trans_type'] == 'sale' else False\n",
    "    quantity = transaction['quantity']\n",
    "\n",
    "    if not is_sale:\n",
    "        quantity -= quantity\n",
    "        \n",
    "    if is_sale:\n",
    "        if item in net_sales:\n",
    "            net_sales[item] += quantity\n",
    "        else:\n",
    "            net_sales[item] = quantity\n",
    "\n",
    "print(net_sales)"
   ]
  },
  {
   "cell_type": "code",
   "execution_count": 86,
   "metadata": {},
   "outputs": [
    {
     "name": "stdout",
     "output_type": "stream",
     "text": [
      "{'widget': 30, 'license': 90}\n"
     ]
    }
   ],
   "source": [
    "total_sold = {}\n",
    "\n",
    "for transaction in transactions:\n",
    "    item = transaction['item']\n",
    "    is_sale = True if transaction['trans_type'] == 'sale' else False\n",
    "    quantity = transaction['quantity']\n",
    "\n",
    "    if is_sale:\n",
    "        if not item in total_sold:\n",
    "            total_sold[item] = 0\n",
    "        total_sold[item] += quantity\n",
    "\n",
    "print(total_sold)"
   ]
  },
  {
   "cell_type": "code",
   "execution_count": 87,
   "metadata": {},
   "outputs": [
    {
     "name": "stdout",
     "output_type": "stream",
     "text": [
      "{'widget': 30, 'license': 90}\n"
     ]
    }
   ],
   "source": [
    "total_sold = {}\n",
    "\n",
    "for transaction in transactions:\n",
    "    item = transaction['item']\n",
    "    is_sale = True if transaction['trans_type'] == 'sale' else False\n",
    "    quantity = transaction['quantity']\n",
    "\n",
    "    if is_sale:\n",
    "        total_sold[item] = total_sold.get(item, 0) + quantity\n",
    "\n",
    "print(total_sold)"
   ]
  },
  {
   "cell_type": "code",
   "execution_count": 88,
   "metadata": {},
   "outputs": [
    {
     "name": "stdout",
     "output_type": "stream",
     "text": [
      "{'widget': 30, 'license': 90}\n"
     ]
    }
   ],
   "source": [
    "net_sales = {}\n",
    "\n",
    "for transaction in transactions:\n",
    "    item = transaction['item']\n",
    "    is_sale = True if transaction['trans_type'] == 'sale' else False\n",
    "    quantity = transaction['quantity']\n",
    "\n",
    "    if not is_sale:\n",
    "        quantity -= quantity\n",
    "        \n",
    "    net_sales[item] = net_sales.get(item, 0) + quantity\n",
    "\n",
    "print(net_sales)"
   ]
  },
  {
   "cell_type": "code",
   "execution_count": 89,
   "metadata": {},
   "outputs": [],
   "source": [
    "d1 = {'a': 1, 'b': 2}\n",
    "d2 = {'c': 3, 'd': 4}"
   ]
  },
  {
   "cell_type": "code",
   "execution_count": 90,
   "metadata": {},
   "outputs": [],
   "source": [
    "d1.update(d2)"
   ]
  },
  {
   "cell_type": "code",
   "execution_count": 91,
   "metadata": {},
   "outputs": [
    {
     "data": {
      "text/plain": [
       "{'a': 1, 'b': 2, 'c': 3, 'd': 4}"
      ]
     },
     "execution_count": 91,
     "metadata": {},
     "output_type": "execute_result"
    }
   ],
   "source": [
    "d1"
   ]
  },
  {
   "cell_type": "code",
   "execution_count": 92,
   "metadata": {},
   "outputs": [
    {
     "data": {
      "text/plain": [
       "{'c': 3, 'd': 4}"
      ]
     },
     "execution_count": 92,
     "metadata": {},
     "output_type": "execute_result"
    }
   ],
   "source": [
    "d2"
   ]
  },
  {
   "cell_type": "code",
   "execution_count": 93,
   "metadata": {},
   "outputs": [],
   "source": [
    "d2.update(d1)"
   ]
  },
  {
   "cell_type": "code",
   "execution_count": 94,
   "metadata": {},
   "outputs": [
    {
     "data": {
      "text/plain": [
       "{'c': 3, 'd': 4, 'a': 1, 'b': 2}"
      ]
     },
     "execution_count": 94,
     "metadata": {},
     "output_type": "execute_result"
    }
   ],
   "source": [
    "d2"
   ]
  },
  {
   "cell_type": "code",
   "execution_count": null,
   "metadata": {},
   "outputs": [],
   "source": []
  }
 ],
 "metadata": {
  "kernelspec": {
   "display_name": "py311",
   "language": "python",
   "name": "python3"
  },
  "language_info": {
   "codemirror_mode": {
    "name": "ipython",
    "version": 3
   },
   "file_extension": ".py",
   "mimetype": "text/x-python",
   "name": "python",
   "nbconvert_exporter": "python",
   "pygments_lexer": "ipython3",
   "version": "3.11.2"
  },
  "orig_nbformat": 4
 },
 "nbformat": 4,
 "nbformat_minor": 2
}
