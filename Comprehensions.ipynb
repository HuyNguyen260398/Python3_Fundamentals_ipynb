{
 "cells": [
  {
   "cell_type": "markdown",
   "metadata": {},
   "source": [
    "List Comprehensions"
   ]
  },
  {
   "cell_type": "code",
   "execution_count": 3,
   "metadata": {},
   "outputs": [],
   "source": [
    "vectors = [(0,0), (0,1), (1,0), (1,1)]"
   ]
  },
  {
   "cell_type": "code",
   "execution_count": 4,
   "metadata": {},
   "outputs": [],
   "source": [
    "from math import sqrt"
   ]
  },
  {
   "cell_type": "code",
   "execution_count": 5,
   "metadata": {},
   "outputs": [
    {
     "data": {
      "text/plain": [
       "[0.0, 1.0, 1.0, 1.4142135623730951]"
      ]
     },
     "execution_count": 5,
     "metadata": {},
     "output_type": "execute_result"
    }
   ],
   "source": [
    "magnitudes = []\n",
    "\n",
    "for vector in vectors:\n",
    "    magnitude = sqrt(vector[0] ** 2 + vector[1] ** 2)\n",
    "    magnitudes.append(magnitude)\n",
    "\n",
    "magnitudes"
   ]
  },
  {
   "cell_type": "code",
   "execution_count": 8,
   "metadata": {},
   "outputs": [
    {
     "data": {
      "text/plain": [
       "[0.0, 1.0, 1.0, 1.4142135623730951]"
      ]
     },
     "execution_count": 8,
     "metadata": {},
     "output_type": "execute_result"
    }
   ],
   "source": [
    "magnitudes = [sqrt(vector[0] ** 2 + vector[1] ** 2) for vector in vectors]\n",
    "magnitudes"
   ]
  },
  {
   "cell_type": "code",
   "execution_count": 9,
   "metadata": {},
   "outputs": [],
   "source": [
    "from time import perf_counter"
   ]
  },
  {
   "cell_type": "code",
   "execution_count": 10,
   "metadata": {},
   "outputs": [
    {
     "data": {
      "text/plain": [
       "0.060830900009023026"
      ]
     },
     "execution_count": 10,
     "metadata": {},
     "output_type": "execute_result"
    }
   ],
   "source": [
    "start = perf_counter()\n",
    "\n",
    "for i in range (100_000):\n",
    "    magnitudes = []\n",
    "\n",
    "    for vector in vectors:\n",
    "        magnitude = sqrt(vector[0] ** 2 + vector[1] ** 2)\n",
    "        magnitudes.append(magnitude)\n",
    "\n",
    "end = perf_counter()\n",
    "\n",
    "elasped_time = end - start\n",
    "elasped_time"
   ]
  },
  {
   "cell_type": "code",
   "execution_count": 11,
   "metadata": {},
   "outputs": [
    {
     "data": {
      "text/plain": [
       "0.049319700003252365"
      ]
     },
     "execution_count": 11,
     "metadata": {},
     "output_type": "execute_result"
    }
   ],
   "source": [
    "start = perf_counter()\n",
    "for i in range (100_000):\n",
    "    magnitudes = [sqrt(vector[0] ** 2 + vector[1] ** 2) for vector in vectors]\n",
    "end = perf_counter()\n",
    "\n",
    "elasped_time = end - start\n",
    "elasped_time"
   ]
  },
  {
   "cell_type": "code",
   "execution_count": 13,
   "metadata": {},
   "outputs": [],
   "source": [
    "string = 'python is a cool language'.split(' ')"
   ]
  },
  {
   "cell_type": "code",
   "execution_count": 14,
   "metadata": {},
   "outputs": [
    {
     "data": {
      "text/plain": [
       "['python', 'is', 'a', 'cool', 'language']"
      ]
     },
     "execution_count": 14,
     "metadata": {},
     "output_type": "execute_result"
    }
   ],
   "source": [
    "string"
   ]
  },
  {
   "cell_type": "code",
   "execution_count": 15,
   "metadata": {},
   "outputs": [
    {
     "data": {
      "text/plain": [
       "['python', 'language']"
      ]
     },
     "execution_count": 15,
     "metadata": {},
     "output_type": "execute_result"
    }
   ],
   "source": [
    "filtered = []\n",
    "for letter in string:\n",
    "    if len(letter) > 5:\n",
    "        filtered.append(letter)\n",
    "filtered"
   ]
  },
  {
   "cell_type": "code",
   "execution_count": 16,
   "metadata": {},
   "outputs": [
    {
     "data": {
      "text/plain": [
       "['python', 'language']"
      ]
     },
     "execution_count": 16,
     "metadata": {},
     "output_type": "execute_result"
    }
   ],
   "source": [
    "filtered = [letter for letter in string if len(letter) > 5]\n",
    "filtered"
   ]
  },
  {
   "cell_type": "code",
   "execution_count": 19,
   "metadata": {},
   "outputs": [],
   "source": [
    "sales = {\n",
    "    'widget 1': 0,\n",
    "    'widget 2': 5,\n",
    "    'widget 3': 10,\n",
    "    'widget 4': 3,\n",
    "}"
   ]
  },
  {
   "cell_type": "code",
   "execution_count": 20,
   "metadata": {},
   "outputs": [
    {
     "data": {
      "text/plain": [
       "['widget 2', 'widget 3']"
      ]
     },
     "execution_count": 20,
     "metadata": {},
     "output_type": "execute_result"
    }
   ],
   "source": [
    "high_sales = []\n",
    "for key, value in sales.items():\n",
    "    if value >= 5:\n",
    "        high_sales.append(key)\n",
    "high_sales"
   ]
  },
  {
   "cell_type": "code",
   "execution_count": 22,
   "metadata": {},
   "outputs": [
    {
     "data": {
      "text/plain": [
       "['widget 2', 'widget 3']"
      ]
     },
     "execution_count": 22,
     "metadata": {},
     "output_type": "execute_result"
    }
   ],
   "source": [
    "high_sales = [key for key, value in sales.items() if value >= 5]\n",
    "high_sales"
   ]
  },
  {
   "cell_type": "code",
   "execution_count": 23,
   "metadata": {},
   "outputs": [],
   "source": [
    "m = [[0] * 3] * 3"
   ]
  },
  {
   "cell_type": "code",
   "execution_count": 24,
   "metadata": {},
   "outputs": [
    {
     "data": {
      "text/plain": [
       "[[0, 0, 0], [0, 0, 0], [0, 0, 0]]"
      ]
     },
     "execution_count": 24,
     "metadata": {},
     "output_type": "execute_result"
    }
   ],
   "source": [
    "m"
   ]
  },
  {
   "cell_type": "code",
   "execution_count": 25,
   "metadata": {},
   "outputs": [
    {
     "data": {
      "text/plain": [
       "True"
      ]
     },
     "execution_count": 25,
     "metadata": {},
     "output_type": "execute_result"
    }
   ],
   "source": [
    "m[0] is m[1]"
   ]
  },
  {
   "cell_type": "code",
   "execution_count": 26,
   "metadata": {},
   "outputs": [],
   "source": [
    "m[0][0] = 100"
   ]
  },
  {
   "cell_type": "code",
   "execution_count": 27,
   "metadata": {},
   "outputs": [
    {
     "data": {
      "text/plain": [
       "[[100, 0, 0], [100, 0, 0], [100, 0, 0]]"
      ]
     },
     "execution_count": 27,
     "metadata": {},
     "output_type": "execute_result"
    }
   ],
   "source": [
    "m"
   ]
  },
  {
   "cell_type": "code",
   "execution_count": 28,
   "metadata": {},
   "outputs": [],
   "source": [
    "m = [[0,0,0] for row in range(3)]"
   ]
  },
  {
   "cell_type": "code",
   "execution_count": 29,
   "metadata": {},
   "outputs": [
    {
     "data": {
      "text/plain": [
       "[[0, 0, 0], [0, 0, 0], [0, 0, 0]]"
      ]
     },
     "execution_count": 29,
     "metadata": {},
     "output_type": "execute_result"
    }
   ],
   "source": [
    "m"
   ]
  },
  {
   "cell_type": "code",
   "execution_count": 30,
   "metadata": {},
   "outputs": [
    {
     "data": {
      "text/plain": [
       "False"
      ]
     },
     "execution_count": 30,
     "metadata": {},
     "output_type": "execute_result"
    }
   ],
   "source": [
    "m[0] is m[1]"
   ]
  },
  {
   "cell_type": "code",
   "execution_count": 31,
   "metadata": {},
   "outputs": [],
   "source": [
    "m[0][0] = 100"
   ]
  },
  {
   "cell_type": "code",
   "execution_count": 32,
   "metadata": {},
   "outputs": [
    {
     "data": {
      "text/plain": [
       "[[100, 0, 0], [0, 0, 0], [0, 0, 0]]"
      ]
     },
     "execution_count": 32,
     "metadata": {},
     "output_type": "execute_result"
    }
   ],
   "source": [
    "m"
   ]
  },
  {
   "cell_type": "code",
   "execution_count": 33,
   "metadata": {},
   "outputs": [],
   "source": [
    "m = [[0,0,0] for _ in range(3)]"
   ]
  },
  {
   "cell_type": "code",
   "execution_count": 34,
   "metadata": {},
   "outputs": [
    {
     "data": {
      "text/plain": [
       "[[0, 0, 0], [0, 0, 0], [0, 0, 0]]"
      ]
     },
     "execution_count": 34,
     "metadata": {},
     "output_type": "execute_result"
    }
   ],
   "source": [
    "m"
   ]
  },
  {
   "cell_type": "code",
   "execution_count": 35,
   "metadata": {},
   "outputs": [],
   "source": [
    "m = [[0] * 3 for _ in range(3)]"
   ]
  },
  {
   "cell_type": "code",
   "execution_count": 36,
   "metadata": {},
   "outputs": [
    {
     "data": {
      "text/plain": [
       "[[0, 0, 0], [0, 0, 0], [0, 0, 0]]"
      ]
     },
     "execution_count": 36,
     "metadata": {},
     "output_type": "execute_result"
    }
   ],
   "source": [
    "m"
   ]
  },
  {
   "cell_type": "code",
   "execution_count": 37,
   "metadata": {},
   "outputs": [],
   "source": [
    "for row in range(3):\n",
    "    for col in range(3):\n",
    "        if row == col:\n",
    "            m[row][col] = 1"
   ]
  },
  {
   "cell_type": "code",
   "execution_count": 38,
   "metadata": {},
   "outputs": [
    {
     "data": {
      "text/plain": [
       "[[1, 0, 0], [0, 1, 0], [0, 0, 1]]"
      ]
     },
     "execution_count": 38,
     "metadata": {},
     "output_type": "execute_result"
    }
   ],
   "source": [
    "m"
   ]
  },
  {
   "cell_type": "code",
   "execution_count": 39,
   "metadata": {},
   "outputs": [],
   "source": [
    "m = [ [1 if row == col else 0 for col in range(3)] for row in range(3)]"
   ]
  },
  {
   "cell_type": "code",
   "execution_count": 40,
   "metadata": {},
   "outputs": [
    {
     "data": {
      "text/plain": [
       "[[1, 0, 0], [0, 1, 0], [0, 0, 1]]"
      ]
     },
     "execution_count": 40,
     "metadata": {},
     "output_type": "execute_result"
    }
   ],
   "source": [
    "m"
   ]
  },
  {
   "cell_type": "markdown",
   "metadata": {},
   "source": [
    "Dictionaries and Set Comprehensions"
   ]
  },
  {
   "cell_type": "code",
   "execution_count": 42,
   "metadata": {},
   "outputs": [],
   "source": [
    "widget_sales = [\n",
    "    {'name': 'widget 1', 'sales': 10},\n",
    "    {'name': 'widget 2', 'sales': 5},\n",
    "    {'name': 'widget 3', 'sales': 0}\n",
    "]"
   ]
  },
  {
   "cell_type": "code",
   "execution_count": 43,
   "metadata": {},
   "outputs": [
    {
     "data": {
      "text/plain": [
       "{'widget 1': 10, 'widget 2': 5, 'widget 3': 0}"
      ]
     },
     "execution_count": 43,
     "metadata": {},
     "output_type": "execute_result"
    }
   ],
   "source": [
    "sales_by_widget = {}\n",
    "for d in widget_sales:\n",
    "    widget_name = d['name']\n",
    "    sales = d['sales']\n",
    "    sales_by_widget[widget_name] = sales\n",
    "sales_by_widget"
   ]
  },
  {
   "cell_type": "code",
   "execution_count": 44,
   "metadata": {},
   "outputs": [
    {
     "data": {
      "text/plain": [
       "{'widget 1': 10, 'widget 2': 5, 'widget 3': 0}"
      ]
     },
     "execution_count": 44,
     "metadata": {},
     "output_type": "execute_result"
    }
   ],
   "source": [
    "sales_by_widget = {}\n",
    "for d in widget_sales:\n",
    "    sales_by_widget[d['name']] = d['sales']\n",
    "sales_by_widget"
   ]
  },
  {
   "cell_type": "code",
   "execution_count": 45,
   "metadata": {},
   "outputs": [
    {
     "data": {
      "text/plain": [
       "{'widget 1': 10, 'widget 2': 5, 'widget 3': 0}"
      ]
     },
     "execution_count": 45,
     "metadata": {},
     "output_type": "execute_result"
    }
   ],
   "source": [
    "sales_by_widget = {d['name']:d['sales'] for d in widget_sales}\n",
    "sales_by_widget"
   ]
  },
  {
   "cell_type": "code",
   "execution_count": 46,
   "metadata": {},
   "outputs": [
    {
     "data": {
      "text/plain": [
       "{'widget 1': 10, 'widget 2': 5}"
      ]
     },
     "execution_count": 46,
     "metadata": {},
     "output_type": "execute_result"
    }
   ],
   "source": [
    "sales_by_widget = {d['name']:d['sales'] for d in widget_sales if d['sales'] > 0}\n",
    "sales_by_widget"
   ]
  },
  {
   "cell_type": "markdown",
   "metadata": {},
   "source": [
    "For simplicity, we'll assume that the paragraph only contains alphanumeric characters as well as these punctuation marks: ,, ., !, ?, :, -, --, \\n"
   ]
  },
  {
   "cell_type": "code",
   "execution_count": 48,
   "metadata": {},
   "outputs": [],
   "source": [
    "paragraph = \"\"\"\n",
    "To be, or not to be--that is the question:\n",
    "Whether 'tis nobler in the mind to suffer\n",
    "The slings and arrows of outrageous fortune\n",
    "Or to take arms against a sea of troubles\n",
    "And by opposing end them. To die, to sleep--\n",
    "No more--and by a sleep to say we end\n",
    "The heartache, and the thousand natural shocks\n",
    "That flesh is heir to.\n",
    "\"\"\""
   ]
  },
  {
   "cell_type": "code",
   "execution_count": 49,
   "metadata": {},
   "outputs": [],
   "source": [
    "punctuation = \",.!:-\\n\""
   ]
  },
  {
   "cell_type": "code",
   "execution_count": 50,
   "metadata": {},
   "outputs": [],
   "source": [
    "for char in punctuation:\n",
    "    paragraph = paragraph.replace(char, ' ')"
   ]
  },
  {
   "cell_type": "code",
   "execution_count": 51,
   "metadata": {},
   "outputs": [
    {
     "data": {
      "text/plain": [
       "\" To be  or not to be  that is the question  Whether 'tis nobler in the mind to suffer The slings and arrows of outrageous fortune Or to take arms against a sea of troubles And by opposing end them  To die  to sleep   No more  and by a sleep to say we end The heartache  and the thousand natural shocks That flesh is heir to  \""
      ]
     },
     "execution_count": 51,
     "metadata": {},
     "output_type": "execute_result"
    }
   ],
   "source": [
    "paragraph"
   ]
  },
  {
   "cell_type": "code",
   "execution_count": 52,
   "metadata": {},
   "outputs": [],
   "source": [
    "all_words = paragraph.split()"
   ]
  },
  {
   "cell_type": "code",
   "execution_count": 53,
   "metadata": {},
   "outputs": [
    {
     "data": {
      "text/plain": [
       "['To',\n",
       " 'be',\n",
       " 'or',\n",
       " 'not',\n",
       " 'to',\n",
       " 'be',\n",
       " 'that',\n",
       " 'is',\n",
       " 'the',\n",
       " 'question',\n",
       " 'Whether',\n",
       " \"'tis\",\n",
       " 'nobler',\n",
       " 'in',\n",
       " 'the',\n",
       " 'mind',\n",
       " 'to',\n",
       " 'suffer',\n",
       " 'The',\n",
       " 'slings',\n",
       " 'and',\n",
       " 'arrows',\n",
       " 'of',\n",
       " 'outrageous',\n",
       " 'fortune',\n",
       " 'Or',\n",
       " 'to',\n",
       " 'take',\n",
       " 'arms',\n",
       " 'against',\n",
       " 'a',\n",
       " 'sea',\n",
       " 'of',\n",
       " 'troubles',\n",
       " 'And',\n",
       " 'by',\n",
       " 'opposing',\n",
       " 'end',\n",
       " 'them',\n",
       " 'To',\n",
       " 'die',\n",
       " 'to',\n",
       " 'sleep',\n",
       " 'No',\n",
       " 'more',\n",
       " 'and',\n",
       " 'by',\n",
       " 'a',\n",
       " 'sleep',\n",
       " 'to',\n",
       " 'say',\n",
       " 'we',\n",
       " 'end',\n",
       " 'The',\n",
       " 'heartache',\n",
       " 'and',\n",
       " 'the',\n",
       " 'thousand',\n",
       " 'natural',\n",
       " 'shocks',\n",
       " 'That',\n",
       " 'flesh',\n",
       " 'is',\n",
       " 'heir',\n",
       " 'to']"
      ]
     },
     "execution_count": 53,
     "metadata": {},
     "output_type": "execute_result"
    }
   ],
   "source": [
    "all_words"
   ]
  },
  {
   "cell_type": "code",
   "execution_count": 54,
   "metadata": {},
   "outputs": [],
   "source": [
    "words = {word for word in all_words}"
   ]
  },
  {
   "cell_type": "code",
   "execution_count": 55,
   "metadata": {},
   "outputs": [
    {
     "data": {
      "text/plain": [
       "{\"'tis\",\n",
       " 'And',\n",
       " 'No',\n",
       " 'Or',\n",
       " 'That',\n",
       " 'The',\n",
       " 'To',\n",
       " 'Whether',\n",
       " 'a',\n",
       " 'against',\n",
       " 'and',\n",
       " 'arms',\n",
       " 'arrows',\n",
       " 'be',\n",
       " 'by',\n",
       " 'die',\n",
       " 'end',\n",
       " 'flesh',\n",
       " 'fortune',\n",
       " 'heartache',\n",
       " 'heir',\n",
       " 'in',\n",
       " 'is',\n",
       " 'mind',\n",
       " 'more',\n",
       " 'natural',\n",
       " 'nobler',\n",
       " 'not',\n",
       " 'of',\n",
       " 'opposing',\n",
       " 'or',\n",
       " 'outrageous',\n",
       " 'question',\n",
       " 'say',\n",
       " 'sea',\n",
       " 'shocks',\n",
       " 'sleep',\n",
       " 'slings',\n",
       " 'suffer',\n",
       " 'take',\n",
       " 'that',\n",
       " 'the',\n",
       " 'them',\n",
       " 'thousand',\n",
       " 'to',\n",
       " 'troubles',\n",
       " 'we'}"
      ]
     },
     "execution_count": 55,
     "metadata": {},
     "output_type": "execute_result"
    }
   ],
   "source": [
    "words"
   ]
  },
  {
   "cell_type": "code",
   "execution_count": 56,
   "metadata": {},
   "outputs": [],
   "source": [
    "words = {word for word in all_words if len(word) > 4}"
   ]
  },
  {
   "cell_type": "code",
   "execution_count": 57,
   "metadata": {},
   "outputs": [
    {
     "data": {
      "text/plain": [
       "{'Whether',\n",
       " 'against',\n",
       " 'arrows',\n",
       " 'flesh',\n",
       " 'fortune',\n",
       " 'heartache',\n",
       " 'natural',\n",
       " 'nobler',\n",
       " 'opposing',\n",
       " 'outrageous',\n",
       " 'question',\n",
       " 'shocks',\n",
       " 'sleep',\n",
       " 'slings',\n",
       " 'suffer',\n",
       " 'thousand',\n",
       " 'troubles'}"
      ]
     },
     "execution_count": 57,
     "metadata": {},
     "output_type": "execute_result"
    }
   ],
   "source": [
    "words"
   ]
  },
  {
   "cell_type": "code",
   "execution_count": 58,
   "metadata": {},
   "outputs": [],
   "source": [
    "words = {word.lower() for word in all_words if len(word) > 4}"
   ]
  },
  {
   "cell_type": "code",
   "execution_count": 59,
   "metadata": {},
   "outputs": [
    {
     "data": {
      "text/plain": [
       "{'against',\n",
       " 'arrows',\n",
       " 'flesh',\n",
       " 'fortune',\n",
       " 'heartache',\n",
       " 'natural',\n",
       " 'nobler',\n",
       " 'opposing',\n",
       " 'outrageous',\n",
       " 'question',\n",
       " 'shocks',\n",
       " 'sleep',\n",
       " 'slings',\n",
       " 'suffer',\n",
       " 'thousand',\n",
       " 'troubles',\n",
       " 'whether'}"
      ]
     },
     "execution_count": 59,
     "metadata": {},
     "output_type": "execute_result"
    }
   ],
   "source": [
    "words"
   ]
  },
  {
   "cell_type": "code",
   "execution_count": 60,
   "metadata": {},
   "outputs": [],
   "source": [
    "data = ['a', 'a', 'a', 'b', 'b', 'c', 'c', 'c', 'd']"
   ]
  },
  {
   "cell_type": "code",
   "execution_count": 62,
   "metadata": {},
   "outputs": [
    {
     "data": {
      "text/plain": [
       "{'a': 3, 'c': 3, 'd': 1, 'b': 2}"
      ]
     },
     "execution_count": 62,
     "metadata": {},
     "output_type": "execute_result"
    }
   ],
   "source": [
    "freq = {}\n",
    "\n",
    "for element in set(data):\n",
    "    count = len([char for char in data if char == element])\n",
    "    freq[element] = count\n",
    "\n",
    "freq"
   ]
  },
  {
   "cell_type": "code",
   "execution_count": 63,
   "metadata": {},
   "outputs": [
    {
     "data": {
      "text/plain": [
       "{'a': 3, 'c': 3, 'd': 1, 'b': 2}"
      ]
     },
     "execution_count": 63,
     "metadata": {},
     "output_type": "execute_result"
    }
   ],
   "source": [
    "freq = {element : len([char for char in data if char == element]) for element in set(data)}\n",
    "freq"
   ]
  },
  {
   "cell_type": "code",
   "execution_count": 64,
   "metadata": {},
   "outputs": [],
   "source": [
    "from collections import Counter"
   ]
  },
  {
   "cell_type": "code",
   "execution_count": 65,
   "metadata": {},
   "outputs": [],
   "source": [
    "data = ['a', 'a', 'a', 'b', 'b', 'c', 'c', 'c', 'd']"
   ]
  },
  {
   "cell_type": "code",
   "execution_count": 66,
   "metadata": {},
   "outputs": [
    {
     "data": {
      "text/plain": [
       "Counter({'a': 3, 'b': 2, 'c': 3, 'd': 1})"
      ]
     },
     "execution_count": 66,
     "metadata": {},
     "output_type": "execute_result"
    }
   ],
   "source": [
    "freq = Counter(data)\n",
    "freq"
   ]
  },
  {
   "cell_type": "code",
   "execution_count": 67,
   "metadata": {},
   "outputs": [
    {
     "data": {
      "text/plain": [
       "{'a': 3, 'b': 2, 'c': 3, 'd': 1}"
      ]
     },
     "execution_count": 67,
     "metadata": {},
     "output_type": "execute_result"
    }
   ],
   "source": [
    "dict(freq)"
   ]
  },
  {
   "cell_type": "code",
   "execution_count": 68,
   "metadata": {},
   "outputs": [],
   "source": [
    "paragraph = \"\"\"\n",
    "To be, or not to be--that is the question:\n",
    "Whether 'tis nobler in the mind to suffer\n",
    "The slings and arrows of outrageous fortune\n",
    "Or to take arms against a sea of troubles\n",
    "And by opposing end them. To die, to sleep--\n",
    "No more--and by a sleep to say we end\n",
    "The heartache, and the thousand natural shocks\n",
    "That flesh is heir to.\n",
    "\"\"\""
   ]
  },
  {
   "cell_type": "code",
   "execution_count": 69,
   "metadata": {},
   "outputs": [],
   "source": [
    "freq = Counter(paragraph)"
   ]
  },
  {
   "cell_type": "code",
   "execution_count": 70,
   "metadata": {},
   "outputs": [
    {
     "data": {
      "text/plain": [
       "{'\\n': 9,\n",
       " 'T': 5,\n",
       " 'o': 25,\n",
       " ' ': 55,\n",
       " 'b': 6,\n",
       " 'e': 31,\n",
       " ',': 3,\n",
       " 'r': 15,\n",
       " 'n': 17,\n",
       " 't': 25,\n",
       " '-': 6,\n",
       " 'h': 16,\n",
       " 'a': 20,\n",
       " 'i': 11,\n",
       " 's': 21,\n",
       " 'q': 1,\n",
       " 'u': 8,\n",
       " ':': 1,\n",
       " 'W': 1,\n",
       " \"'\": 1,\n",
       " 'l': 7,\n",
       " 'm': 4,\n",
       " 'd': 9,\n",
       " 'f': 6,\n",
       " 'g': 4,\n",
       " 'w': 2,\n",
       " 'O': 1,\n",
       " 'k': 2,\n",
       " 'A': 1,\n",
       " 'y': 3,\n",
       " 'p': 4,\n",
       " '.': 2,\n",
       " 'N': 1,\n",
       " 'c': 2}"
      ]
     },
     "execution_count": 70,
     "metadata": {},
     "output_type": "execute_result"
    }
   ],
   "source": [
    "dict(freq)"
   ]
  },
  {
   "cell_type": "code",
   "execution_count": 82,
   "metadata": {},
   "outputs": [],
   "source": [
    "ignored = ',.-\\n\\''"
   ]
  },
  {
   "cell_type": "code",
   "execution_count": 83,
   "metadata": {},
   "outputs": [],
   "source": [
    "freq = Counter(paragraph.casefold())"
   ]
  },
  {
   "cell_type": "code",
   "execution_count": 84,
   "metadata": {},
   "outputs": [
    {
     "data": {
      "text/plain": [
       "Counter({'\\n': 9,\n",
       "         't': 30,\n",
       "         'o': 26,\n",
       "         ' ': 55,\n",
       "         'b': 6,\n",
       "         'e': 31,\n",
       "         ',': 3,\n",
       "         'r': 15,\n",
       "         'n': 18,\n",
       "         '-': 6,\n",
       "         'h': 16,\n",
       "         'a': 21,\n",
       "         'i': 11,\n",
       "         's': 21,\n",
       "         'q': 1,\n",
       "         'u': 8,\n",
       "         ':': 1,\n",
       "         'w': 3,\n",
       "         \"'\": 1,\n",
       "         'l': 7,\n",
       "         'm': 4,\n",
       "         'd': 9,\n",
       "         'f': 6,\n",
       "         'g': 4,\n",
       "         'k': 2,\n",
       "         'y': 3,\n",
       "         'p': 4,\n",
       "         '.': 2,\n",
       "         'c': 2})"
      ]
     },
     "execution_count": 84,
     "metadata": {},
     "output_type": "execute_result"
    }
   ],
   "source": [
    "freq"
   ]
  },
  {
   "cell_type": "code",
   "execution_count": 85,
   "metadata": {},
   "outputs": [],
   "source": [
    "freq = {key:value for key,value in freq.items() if key not in ignored}"
   ]
  },
  {
   "cell_type": "code",
   "execution_count": 86,
   "metadata": {},
   "outputs": [
    {
     "data": {
      "text/plain": [
       "{'t': 30,\n",
       " 'o': 26,\n",
       " ' ': 55,\n",
       " 'b': 6,\n",
       " 'e': 31,\n",
       " 'r': 15,\n",
       " 'n': 18,\n",
       " 'h': 16,\n",
       " 'a': 21,\n",
       " 'i': 11,\n",
       " 's': 21,\n",
       " 'q': 1,\n",
       " 'u': 8,\n",
       " ':': 1,\n",
       " 'w': 3,\n",
       " 'l': 7,\n",
       " 'm': 4,\n",
       " 'd': 9,\n",
       " 'f': 6,\n",
       " 'g': 4,\n",
       " 'k': 2,\n",
       " 'y': 3,\n",
       " 'p': 4,\n",
       " 'c': 2}"
      ]
     },
     "execution_count": 86,
     "metadata": {},
     "output_type": "execute_result"
    }
   ],
   "source": [
    "freq"
   ]
  },
  {
   "cell_type": "code",
   "execution_count": null,
   "metadata": {},
   "outputs": [],
   "source": []
  }
 ],
 "metadata": {
  "kernelspec": {
   "display_name": "py311",
   "language": "python",
   "name": "python3"
  },
  "language_info": {
   "codemirror_mode": {
    "name": "ipython",
    "version": 3
   },
   "file_extension": ".py",
   "mimetype": "text/x-python",
   "name": "python",
   "nbconvert_exporter": "python",
   "pygments_lexer": "ipython3",
   "version": "3.11.2"
  },
  "orig_nbformat": 4
 },
 "nbformat": 4,
 "nbformat_minor": 2
}
