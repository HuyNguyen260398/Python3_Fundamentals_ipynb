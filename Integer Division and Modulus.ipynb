{
 "cells": [
  {
   "cell_type": "code",
   "execution_count": 1,
   "id": "2ed5b54a",
   "metadata": {},
   "outputs": [],
   "source": [
    "a = 10\n",
    "b = 3"
   ]
  },
  {
   "cell_type": "code",
   "execution_count": 2,
   "id": "77fdd490",
   "metadata": {},
   "outputs": [
    {
     "data": {
      "text/plain": [
       "3.3333333333333335"
      ]
     },
     "execution_count": 2,
     "metadata": {},
     "output_type": "execute_result"
    }
   ],
   "source": [
    "a / b"
   ]
  },
  {
   "cell_type": "code",
   "execution_count": 3,
   "id": "f482b222",
   "metadata": {},
   "outputs": [
    {
     "data": {
      "text/plain": [
       "3"
      ]
     },
     "execution_count": 3,
     "metadata": {},
     "output_type": "execute_result"
    }
   ],
   "source": [
    "a // b"
   ]
  },
  {
   "cell_type": "code",
   "execution_count": 4,
   "id": "001c6a26",
   "metadata": {},
   "outputs": [
    {
     "data": {
      "text/plain": [
       "1"
      ]
     },
     "execution_count": 4,
     "metadata": {},
     "output_type": "execute_result"
    }
   ],
   "source": [
    "a % b"
   ]
  },
  {
   "cell_type": "code",
   "execution_count": 5,
   "id": "b76cc6e8",
   "metadata": {},
   "outputs": [
    {
     "data": {
      "text/plain": [
       "-2.4"
      ]
     },
     "execution_count": 5,
     "metadata": {},
     "output_type": "execute_result"
    }
   ],
   "source": [
    "-12 / 5"
   ]
  },
  {
   "cell_type": "code",
   "execution_count": 6,
   "id": "846b4af1",
   "metadata": {},
   "outputs": [
    {
     "data": {
      "text/plain": [
       "-3"
      ]
     },
     "execution_count": 6,
     "metadata": {},
     "output_type": "execute_result"
    }
   ],
   "source": [
    "-12 // 5"
   ]
  },
  {
   "cell_type": "code",
   "execution_count": 7,
   "id": "fb6f8456",
   "metadata": {},
   "outputs": [
    {
     "data": {
      "text/plain": [
       "1"
      ]
     },
     "execution_count": 7,
     "metadata": {},
     "output_type": "execute_result"
    }
   ],
   "source": [
    "10 % 3"
   ]
  },
  {
   "cell_type": "code",
   "execution_count": 8,
   "id": "64078971",
   "metadata": {},
   "outputs": [
    {
     "data": {
      "text/plain": [
       "0"
      ]
     },
     "execution_count": 8,
     "metadata": {},
     "output_type": "execute_result"
    }
   ],
   "source": [
    "4 % 2"
   ]
  },
  {
   "cell_type": "code",
   "execution_count": 9,
   "id": "b4ddf111",
   "metadata": {},
   "outputs": [
    {
     "data": {
      "text/plain": [
       "1"
      ]
     },
     "execution_count": 9,
     "metadata": {},
     "output_type": "execute_result"
    }
   ],
   "source": [
    "5 % 2"
   ]
  },
  {
   "cell_type": "code",
   "execution_count": 10,
   "id": "06f5254e",
   "metadata": {},
   "outputs": [
    {
     "data": {
      "text/plain": [
       "1"
      ]
     },
     "execution_count": 10,
     "metadata": {},
     "output_type": "execute_result"
    }
   ],
   "source": [
    "1357 % 2"
   ]
  },
  {
   "cell_type": "code",
   "execution_count": 11,
   "id": "a5d4d4b5",
   "metadata": {},
   "outputs": [],
   "source": [
    "elapsed_minutes = 165"
   ]
  },
  {
   "cell_type": "code",
   "execution_count": 12,
   "id": "aedba025",
   "metadata": {},
   "outputs": [
    {
     "data": {
      "text/plain": [
       "2.75"
      ]
     },
     "execution_count": 12,
     "metadata": {},
     "output_type": "execute_result"
    }
   ],
   "source": [
    "165 / 60"
   ]
  },
  {
   "cell_type": "code",
   "execution_count": 13,
   "id": "9c8840cf",
   "metadata": {},
   "outputs": [
    {
     "data": {
      "text/plain": [
       "45"
      ]
     },
     "execution_count": 13,
     "metadata": {},
     "output_type": "execute_result"
    }
   ],
   "source": [
    "165 - (2 * 60)"
   ]
  },
  {
   "cell_type": "code",
   "execution_count": 14,
   "id": "a7023b28",
   "metadata": {},
   "outputs": [
    {
     "data": {
      "text/plain": [
       "2"
      ]
     },
     "execution_count": 14,
     "metadata": {},
     "output_type": "execute_result"
    }
   ],
   "source": [
    "165 // 60"
   ]
  },
  {
   "cell_type": "code",
   "execution_count": 15,
   "id": "f1f5e465",
   "metadata": {},
   "outputs": [
    {
     "data": {
      "text/plain": [
       "45"
      ]
     },
     "execution_count": 15,
     "metadata": {},
     "output_type": "execute_result"
    }
   ],
   "source": [
    "165 - (165 // 60 * 60)"
   ]
  },
  {
   "cell_type": "code",
   "execution_count": 16,
   "id": "36578e7a",
   "metadata": {},
   "outputs": [
    {
     "data": {
      "text/plain": [
       "45"
      ]
     },
     "execution_count": 16,
     "metadata": {},
     "output_type": "execute_result"
    }
   ],
   "source": [
    "165 % 60"
   ]
  },
  {
   "cell_type": "code",
   "execution_count": 19,
   "id": "dd8a2101",
   "metadata": {},
   "outputs": [
    {
     "name": "stdout",
     "output_type": "stream",
     "text": [
      "hours: 29 - remaning minutes: 25\n"
     ]
    }
   ],
   "source": [
    "elapsed_minutes = 1765\n",
    "hours = elapsed_minutes // 60\n",
    "remaining_minutes = elapsed_minutes % 60\n",
    "print(f'hours: {hours} - remaning minutes: {remaining_minutes}')"
   ]
  },
  {
   "cell_type": "code",
   "execution_count": 22,
   "id": "4717ffe2",
   "metadata": {},
   "outputs": [
    {
     "name": "stdout",
     "output_type": "stream",
     "text": [
      "total: 300...\n",
      "total: 15400...\n",
      "total: 19900...\n",
      "total: 20100...\n",
      "total: 25200...\n",
      "total: 70500...\n",
      "total: 79800...\n",
      "total: 80200...\n",
      "total: 90100...\n",
      "total: 165600...\n",
      "total: 179700...\n",
      "total: 180300...\n",
      "total: 195000...\n",
      "total: 300700...\n",
      "total: 319600...\n",
      "total: 320400...\n",
      "total: 339900...\n",
      "total: 475800...\n",
      "total: 499500...\n",
      "total: 500500...\n",
      "final total: 500500\n"
     ]
    }
   ],
   "source": [
    "total = 0\n",
    "for i in range (1, 1_001):\n",
    "    total += i\n",
    "    if total % 100 == 0:\n",
    "        print (f'total: {total}...')\n",
    "print (f'final total: {total}')"
   ]
  },
  {
   "cell_type": "code",
   "execution_count": null,
   "id": "ec77c598",
   "metadata": {},
   "outputs": [],
   "source": []
  }
 ],
 "metadata": {
  "kernelspec": {
   "display_name": "Python 3 (ipykernel)",
   "language": "python",
   "name": "python3"
  },
  "language_info": {
   "codemirror_mode": {
    "name": "ipython",
    "version": 3
   },
   "file_extension": ".py",
   "mimetype": "text/x-python",
   "name": "python",
   "nbconvert_exporter": "python",
   "pygments_lexer": "ipython3",
   "version": "3.11.2"
  }
 },
 "nbformat": 4,
 "nbformat_minor": 5
}
