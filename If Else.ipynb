{
 "cells": [
  {
   "cell_type": "code",
   "execution_count": 1,
   "metadata": {},
   "outputs": [
    {
     "name": "stdout",
     "output_type": "stream",
     "text": [
      "1 is less than 2\n"
     ]
    }
   ],
   "source": [
    "if 1 < 2:\n",
    "    print('1 is less than 2')"
   ]
  },
  {
   "cell_type": "code",
   "execution_count": 4,
   "metadata": {},
   "outputs": [
    {
     "name": "stdout",
     "output_type": "stream",
     "text": [
      "insufficient funds\n"
     ]
    }
   ],
   "source": [
    "account_enabled = True\n",
    "balance = 1000\n",
    "withdraw = 1500\n",
    "\n",
    "if account_enabled and withdraw <= balance:\n",
    "    print('authorized')\n",
    "else:\n",
    "    if not account_enabled:\n",
    "        print('account disabled')\n",
    "    else:\n",
    "        print('insufficient funds')"
   ]
  },
  {
   "cell_type": "code",
   "execution_count": 2,
   "metadata": {},
   "outputs": [
    {
     "name": "stdout",
     "output_type": "stream",
     "text": [
      "C\n"
     ]
    }
   ],
   "source": [
    "grade = 75\n",
    "grade_letter = ''\n",
    "\n",
    "if grade >= 90:\n",
    "    grade_letter = 'A'\n",
    "else:\n",
    "    if grade >= 80:\n",
    "        grade_letter = 'B'\n",
    "    else:\n",
    "        if grade >= 70:\n",
    "            grade_letter = 'C'\n",
    "        else:\n",
    "            if grade >= 60:\n",
    "                grade_letter = 'D'\n",
    "            else:\n",
    "                grade_letter = 'F'\n",
    "\n",
    "print(grade_letter)"
   ]
  },
  {
   "cell_type": "code",
   "execution_count": 3,
   "metadata": {},
   "outputs": [
    {
     "name": "stdout",
     "output_type": "stream",
     "text": [
      "C\n"
     ]
    }
   ],
   "source": [
    "grade = 75\n",
    "grade_letter = ''\n",
    "\n",
    "if grade >= 90:\n",
    "    grade_letter = 'A'\n",
    "elif grade >= 80:\n",
    "    grade_letter = 'B'\n",
    "elif grade >= 70:\n",
    "    grade_letter = 'C'\n",
    "elif grade >= 60:\n",
    "    grade_letter = 'D'\n",
    "else:\n",
    "    grade_letter = 'F'\n",
    "\n",
    "print(grade_letter)"
   ]
  },
  {
   "cell_type": "code",
   "execution_count": 4,
   "metadata": {},
   "outputs": [
    {
     "name": "stdout",
     "output_type": "stream",
     "text": [
      "50\n"
     ]
    }
   ],
   "source": [
    "ask_price = 100\n",
    "\n",
    "volume = 50 if ask_price > 50 else 80\n",
    "\n",
    "print(volume)"
   ]
  },
  {
   "cell_type": "code",
   "execution_count": 5,
   "metadata": {},
   "outputs": [
    {
     "name": "stdout",
     "output_type": "stream",
     "text": [
      "10\n"
     ]
    }
   ],
   "source": [
    "a = 20\n",
    "b = 10\n",
    "\n",
    "distance = a - b if a > b else b - a\n",
    "\n",
    "print(distance)"
   ]
  },
  {
   "cell_type": "code",
   "execution_count": 11,
   "metadata": {},
   "outputs": [
    {
     "name": "stdout",
     "output_type": "stream",
     "text": [
      "15100\n"
     ]
    }
   ],
   "source": [
    "current_value = 100\n",
    "running_total = 15000\n",
    "running_count = 125\n",
    "\n",
    "if current_value == -999:\n",
    "    clean_value = 0\n",
    "else:\n",
    "    clean_value = current_value\n",
    "\n",
    "running_total = running_total + clean_value\n",
    "\n",
    "print(running_total)"
   ]
  },
  {
   "cell_type": "code",
   "execution_count": 10,
   "metadata": {},
   "outputs": [
    {
     "name": "stdout",
     "output_type": "stream",
     "text": [
      "15100\n"
     ]
    }
   ],
   "source": [
    "current_value = 100\n",
    "running_total = 15000\n",
    "running_count = 125\n",
    "\n",
    "clean_value = 0 if current_value == -999 else current_value\n",
    "\n",
    "running_total = running_total + clean_value\n",
    "\n",
    "print(running_total)"
   ]
  },
  {
   "cell_type": "code",
   "execution_count": 13,
   "metadata": {},
   "outputs": [
    {
     "name": "stdout",
     "output_type": "stream",
     "text": [
      "15100\n"
     ]
    }
   ],
   "source": [
    "current_value = 100\n",
    "running_total = 15000\n",
    "running_count = 125\n",
    "\n",
    "running_total = running_total + (0 if current_value == -999 else current_value)\n",
    "\n",
    "print(running_total)"
   ]
  },
  {
   "cell_type": "code",
   "execution_count": null,
   "metadata": {},
   "outputs": [],
   "source": []
  }
 ],
 "metadata": {
  "kernelspec": {
   "display_name": "py311",
   "language": "python",
   "name": "python3"
  },
  "language_info": {
   "codemirror_mode": {
    "name": "ipython",
    "version": 3
   },
   "file_extension": ".py",
   "mimetype": "text/x-python",
   "name": "python",
   "nbconvert_exporter": "python",
   "pygments_lexer": "ipython3",
   "version": "3.11.2"
  },
  "orig_nbformat": 4
 },
 "nbformat": 4,
 "nbformat_minor": 2
}
